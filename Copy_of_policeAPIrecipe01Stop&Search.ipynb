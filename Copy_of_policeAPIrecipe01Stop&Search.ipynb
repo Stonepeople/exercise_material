{
  "nbformat": 4,
  "nbformat_minor": 0,
  "metadata": {
    "colab": {
      "provenance": [],
      "toc_visible": true,
      "include_colab_link": true
    },
    "kernelspec": {
      "name": "python3",
      "display_name": "Python 3"
    },
    "language_info": {
      "name": "python"
    }
  },
  "cells": [
    {
      "cell_type": "markdown",
      "metadata": {
        "id": "view-in-github",
        "colab_type": "text"
      },
      "source": [
        "<a href=\"https://colab.research.google.com/github/Stonepeople/exercise_material/blob/main/Copy_of_policeAPIrecipe01Stop%26Search.ipynb\" target=\"_parent\"><img src=\"https://colab.research.google.com/assets/colab-badge.svg\" alt=\"Open In Colab\"/></a>"
      ]
    },
    {
      "cell_type": "markdown",
      "source": [
        "# Recipe: fetching stop and search data for a force\n",
        "\n",
        "Copy this notebook and use it in Google Drive to fetch data from the police API for a specific force and date range - all you have to do is change the details in the box below and run all the blocks of code.\n",
        "\n",
        "Note that locations are **anonymised** so that \"The latitude and longitude locations of Crime and ASB incidents ... always represent the approximate location of a crime — **not the exact place that it happened**. [More details on that here](https://data.police.uk/about/#location-anonymisation)"
      ],
      "metadata": {
        "id": "irWywyyzzqqV"
      }
    },
    {
      "cell_type": "markdown",
      "source": [
        "## CHANGE THIS BOX ONLY!\n",
        "\n",
        "Below we have specified a force ID and a date range in the format 'YYYY-MM'.\n",
        "\n",
        "You can get a list of each force's ID at https://data.police.uk/api/forces - make sure you are using Firefox, or Chrome (then tick 'Pretty print' in the upper right corner of the page) so that you can read the list."
      ],
      "metadata": {
        "id": "F0ga2KB50l-H"
      }
    },
    {
      "cell_type": "code",
      "source": [
        "#replace the force ID here with your own\n",
        "forceid = \"avon-and-somerset\"\n",
        "#replace the year-month with the one you want\n",
        "yearmonth = \"2024-01\"\n"
      ],
      "metadata": {
        "id": "xFHgH_NYzvEA"
      },
      "execution_count": null,
      "outputs": []
    },
    {
      "cell_type": "markdown",
      "source": [
        "## Now run all this code\n",
        "\n",
        "Next to each box of code is a 'play' button to run the code. Press play on each in turn to run the code - or just go to *Runtime > Run after*."
      ],
      "metadata": {
        "id": "ql4VSW9u0rl_"
      }
    },
    {
      "cell_type": "code",
      "execution_count": null,
      "metadata": {
        "colab": {
          "base_uri": "https://localhost:8080/"
        },
        "id": "T6Z80Vl2zatU",
        "outputId": "ed8e08ae-7269-4534-e305-0cf8cb87d280"
      },
      "outputs": [
        {
          "output_type": "stream",
          "name": "stdout",
          "text": [
            "libraries imported!\n"
          ]
        }
      ],
      "source": [
        "#import pandas to handle JSON and export as CSV\n",
        "import pandas as pd\n",
        "#import files to download CSV\n",
        "from google.colab import files\n",
        "print('libraries imported!')"
      ]
    },
    {
      "cell_type": "code",
      "source": [
        "#form a URL with the base URL and the parameters given above\n",
        "queryurl = \"https://data.police.uk/api/stops-force?force=\"+forceid+\"&date=\"+yearmonth\n",
        "print('This is the URL for the data:',queryurl)"
      ],
      "metadata": {
        "colab": {
          "base_uri": "https://localhost:8080/"
        },
        "id": "q2KkODd-0BEf",
        "outputId": "a4df4163-2b49-4873-cf89-d23b13980c24"
      },
      "execution_count": null,
      "outputs": [
        {
          "output_type": "stream",
          "name": "stdout",
          "text": [
            "This is the URL for the data: https://data.police.uk/api/stops-force?force=avon-and-somerset&date=2024-01\n"
          ]
        }
      ]
    },
    {
      "cell_type": "code",
      "source": [
        "#fetch the data from the URL\n",
        "fetcheddata = pd.read_json(queryurl)\n",
        "#flatten the location branch into another data frame\n",
        "location_data = pd.json_normalize(fetcheddata['location'])\n",
        "#join together\n",
        "combined_data = pd.concat([fetcheddata,location_data],axis=1)\n",
        "#drop duplicate location column\n",
        "combined_data = combined_data.drop(columns=['location'])"
      ],
      "metadata": {
        "id": "ZPFDc4IB0PAS"
      },
      "execution_count": null,
      "outputs": []
    },
    {
      "cell_type": "code",
      "source": [
        "#export as CSV\n",
        "combined_data.to_csv('stopandsearch.csv')\n",
        "#download exported CSV file\n",
        "files.download('stopandsearch.csv')"
      ],
      "metadata": {
        "colab": {
          "base_uri": "https://localhost:8080/",
          "height": 17
        },
        "id": "VXG6VGuw2vMa",
        "outputId": "11b3f825-9fea-4542-9cc2-5c543edb66fe"
      },
      "execution_count": null,
      "outputs": [
        {
          "output_type": "display_data",
          "data": {
            "text/plain": [
              "<IPython.core.display.Javascript object>"
            ],
            "application/javascript": [
              "\n",
              "    async function download(id, filename, size) {\n",
              "      if (!google.colab.kernel.accessAllowed) {\n",
              "        return;\n",
              "      }\n",
              "      const div = document.createElement('div');\n",
              "      const label = document.createElement('label');\n",
              "      label.textContent = `Downloading \"${filename}\": `;\n",
              "      div.appendChild(label);\n",
              "      const progress = document.createElement('progress');\n",
              "      progress.max = size;\n",
              "      div.appendChild(progress);\n",
              "      document.body.appendChild(div);\n",
              "\n",
              "      const buffers = [];\n",
              "      let downloaded = 0;\n",
              "\n",
              "      const channel = await google.colab.kernel.comms.open(id);\n",
              "      // Send a message to notify the kernel that we're ready.\n",
              "      channel.send({})\n",
              "\n",
              "      for await (const message of channel.messages) {\n",
              "        // Send a message to notify the kernel that we're ready.\n",
              "        channel.send({})\n",
              "        if (message.buffers) {\n",
              "          for (const buffer of message.buffers) {\n",
              "            buffers.push(buffer);\n",
              "            downloaded += buffer.byteLength;\n",
              "            progress.value = downloaded;\n",
              "          }\n",
              "        }\n",
              "      }\n",
              "      const blob = new Blob(buffers, {type: 'application/binary'});\n",
              "      const a = document.createElement('a');\n",
              "      a.href = window.URL.createObjectURL(blob);\n",
              "      a.download = filename;\n",
              "      div.appendChild(a);\n",
              "      a.click();\n",
              "      div.remove();\n",
              "    }\n",
              "  "
            ]
          },
          "metadata": {}
        },
        {
          "output_type": "display_data",
          "data": {
            "text/plain": [
              "<IPython.core.display.Javascript object>"
            ],
            "application/javascript": [
              "download(\"download_9a3a328f-6e47-4511-b14d-440bd92aa00f\", \"stopandsearch.csv\", 160541)"
            ]
          },
          "metadata": {}
        }
      ]
    }
  ]
}