{
  "nbformat": 4,
  "nbformat_minor": 0,
  "metadata": {
    "colab": {
      "provenance": [],
      "toc_visible": true,
      "include_colab_link": true
    },
    "kernelspec": {
      "name": "python3",
      "display_name": "Python 3"
    },
    "language_info": {
      "name": "python"
    }
  },
  "cells": [
    {
      "cell_type": "markdown",
      "metadata": {
        "id": "view-in-github",
        "colab_type": "text"
      },
      "source": [
        "<a href=\"https://colab.research.google.com/github/Stonepeople/exercise_material/blob/main/Copy_of_policeAPIrecipe02Crimes.ipynb\" target=\"_parent\"><img src=\"https://colab.research.google.com/assets/colab-badge.svg\" alt=\"Open In Colab\"/></a>"
      ]
    },
    {
      "cell_type": "markdown",
      "source": [
        "# Recipe: fetching crime data for a location\n",
        "\n",
        "Copy this notebook and use it in Google Drive to fetch data from the police API for crimes near a particular location during a specified month - all you have to do is change the details in the box below and run all the blocks of code.\n",
        "\n",
        "Note: the API \"Returns just the crimes which occurred at the specified location, rather than those within a radius,\" [according to the documentation](https://data.police.uk/docs/method/crimes-at-location/). \"If given latitude and longitude, [it] finds the nearest pre-defined location and returns the crimes which occurred there.\"\n",
        "\n",
        "Note also that locations are **anonymised** so that \"The latitude and longitude locations of Crime and ASB incidents ... always represent the approximate location of a crime — **not the exact place that it happened**. [More details on that here](https://data.police.uk/about/#location-anonymisation)"
      ],
      "metadata": {
        "id": "irWywyyzzqqV"
      }
    },
    {
      "cell_type": "markdown",
      "source": [
        "## CHANGE THIS BOX ONLY!\n",
        "\n",
        "Below we have specified a latitude, longitude and a date range in the format 'YYYY-MM'.\n",
        "\n",
        "You can get the lat-long of a location by searching for it in Google Maps and looking in the URL for the two values.\n",
        "\n",
        "For example, Birmingham New Street's [Google Maps URL](https://www.google.com/maps/place/Birmingham+New+Street/@52.4777572,-1.9015383,17z/data=!3m1!4b1!4m6!3m5!1s0x487096f1df0e0571:0xedfa487a0f2ea32e!8m2!3d52.477754!4d-1.898958!16zL20vMDFkdDFq?entry=ttu) is `https://www.google.com/maps/place/Birmingham+New+Street/@52.4777572,-1.9015383,17z/...` with the lat being `52.4777572` and the longitude `-1.9015383`"
      ],
      "metadata": {
        "id": "F0ga2KB50l-H"
      }
    },
    {
      "cell_type": "code",
      "source": [
        "#replace the lat ang long here with your own\n",
        "lat = \"52.4777572\"\n",
        "long = \"-1.9015383\"\n",
        "#replace the year-month with the one you want\n",
        "yearmonth = \"2024-01\"\n"
      ],
      "metadata": {
        "id": "xFHgH_NYzvEA"
      },
      "execution_count": null,
      "outputs": []
    },
    {
      "cell_type": "markdown",
      "source": [
        "## Now run all this code\n",
        "\n",
        "Next to each box of code is a 'play' button to run the code. Press play on each in turn to run the code - or just go to *Runtime > Run after*."
      ],
      "metadata": {
        "id": "ql4VSW9u0rl_"
      }
    },
    {
      "cell_type": "code",
      "execution_count": null,
      "metadata": {
        "colab": {
          "base_uri": "https://localhost:8080/"
        },
        "id": "T6Z80Vl2zatU",
        "outputId": "39075202-7d7d-4c92-8567-dd123e02bfe6"
      },
      "outputs": [
        {
          "output_type": "stream",
          "name": "stdout",
          "text": [
            "libraries imported!\n"
          ]
        }
      ],
      "source": [
        "#import pandas to handle JSON and export as CSV\n",
        "import pandas as pd\n",
        "#import files to download CSV\n",
        "from google.colab import files\n",
        "print('libraries imported!')"
      ]
    },
    {
      "cell_type": "code",
      "source": [
        "#form a URL with the base URL and the parameters given above\n",
        "queryurl = \"https://data.police.uk/api/crimes-at-location?lat=\"+lat+\"&lng=\"+long+\"&date=\"+yearmonth\n",
        "print('This is the URL for the data:',queryurl)"
      ],
      "metadata": {
        "colab": {
          "base_uri": "https://localhost:8080/"
        },
        "id": "q2KkODd-0BEf",
        "outputId": "483859cc-79a5-48c3-a825-9a5b5fe59f0a"
      },
      "execution_count": null,
      "outputs": [
        {
          "output_type": "stream",
          "name": "stdout",
          "text": [
            "This is the URL for the data: https://data.police.uk/api/crimes-at-location?lat=52.4777572&lng=-1.9015383&date=2024-01\n"
          ]
        }
      ]
    },
    {
      "cell_type": "code",
      "source": [
        "#fetch the data from the URL\n",
        "fetcheddata = pd.read_json(queryurl)\n",
        "#flatten the location branch into another data frame\n",
        "location_data = pd.json_normalize(fetcheddata['location'])\n",
        "#join together\n",
        "combined_data = pd.concat([fetcheddata,location_data],axis=1)\n",
        "#drop duplicate location column\n",
        "combined_data = combined_data.drop(columns=['location'])"
      ],
      "metadata": {
        "id": "ZPFDc4IB0PAS"
      },
      "execution_count": null,
      "outputs": []
    },
    {
      "cell_type": "code",
      "source": [
        "#export as CSV\n",
        "combined_data.to_csv('crimesatlocation.csv')\n",
        "#download exported CSV file\n",
        "files.download('crimesatlocation.csv')"
      ],
      "metadata": {
        "colab": {
          "base_uri": "https://localhost:8080/",
          "height": 17
        },
        "id": "VXG6VGuw2vMa",
        "outputId": "9cb82901-5c2c-49e9-a1f9-ebf923ac30c9"
      },
      "execution_count": null,
      "outputs": [
        {
          "output_type": "display_data",
          "data": {
            "text/plain": [
              "<IPython.core.display.Javascript object>"
            ],
            "application/javascript": [
              "\n",
              "    async function download(id, filename, size) {\n",
              "      if (!google.colab.kernel.accessAllowed) {\n",
              "        return;\n",
              "      }\n",
              "      const div = document.createElement('div');\n",
              "      const label = document.createElement('label');\n",
              "      label.textContent = `Downloading \"${filename}\": `;\n",
              "      div.appendChild(label);\n",
              "      const progress = document.createElement('progress');\n",
              "      progress.max = size;\n",
              "      div.appendChild(progress);\n",
              "      document.body.appendChild(div);\n",
              "\n",
              "      const buffers = [];\n",
              "      let downloaded = 0;\n",
              "\n",
              "      const channel = await google.colab.kernel.comms.open(id);\n",
              "      // Send a message to notify the kernel that we're ready.\n",
              "      channel.send({})\n",
              "\n",
              "      for await (const message of channel.messages) {\n",
              "        // Send a message to notify the kernel that we're ready.\n",
              "        channel.send({})\n",
              "        if (message.buffers) {\n",
              "          for (const buffer of message.buffers) {\n",
              "            buffers.push(buffer);\n",
              "            downloaded += buffer.byteLength;\n",
              "            progress.value = downloaded;\n",
              "          }\n",
              "        }\n",
              "      }\n",
              "      const blob = new Blob(buffers, {type: 'application/binary'});\n",
              "      const a = document.createElement('a');\n",
              "      a.href = window.URL.createObjectURL(blob);\n",
              "      a.download = filename;\n",
              "      div.appendChild(a);\n",
              "      a.click();\n",
              "      div.remove();\n",
              "    }\n",
              "  "
            ]
          },
          "metadata": {}
        },
        {
          "output_type": "display_data",
          "data": {
            "text/plain": [
              "<IPython.core.display.Javascript object>"
            ],
            "application/javascript": [
              "download(\"download_01172831-14e6-42c9-a484-8549ebf1a22e\", \"crimesatlocation.csv\", 2731)"
            ]
          },
          "metadata": {}
        }
      ]
    }
  ]
}